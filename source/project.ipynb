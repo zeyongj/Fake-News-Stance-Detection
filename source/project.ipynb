{
  "nbformat": 4,
  "nbformat_minor": 0,
  "metadata": {
    "accelerator": "TPU",
    "colab": {
      "name": "project.ipynb",
      "provenance": [],
      "collapsed_sections": [],
      "machine_shape": "hm"
    },
    "kernelspec": {
      "display_name": "Python 3",
      "language": "python",
      "name": "python3"
    },
    "language_info": {
      "codemirror_mode": {
        "name": "ipython",
        "version": 3
      },
      "file_extension": ".py",
      "mimetype": "text/x-python",
      "name": "python",
      "nbconvert_exporter": "python",
      "pygments_lexer": "ipython3",
      "version": "3.8.8"
    }
  },
  "cells": [
    {
      "cell_type": "markdown",
      "metadata": {
        "id": "vZSYcYRCxISY"
      },
      "source": [
        "# Simon Fraser University\n",
        "## CMPT 413 Final Project\n",
        "## Prompt-based Text Matching Methods for Fake News Stance Detection\n",
        "\n",
        "### Group AWSL: Zeyong Jin; Yuqing Wu; Zhi Feng."
      ]
    },
    {
      "cell_type": "code",
      "metadata": {
        "id": "YITqP0YE-hO2"
      },
      "source": [
        "import warnings\n",
        "warnings.filterwarnings('ignore')"
      ],
      "execution_count": null,
      "outputs": []
    },
    {
      "cell_type": "markdown",
      "metadata": {
        "id": "BfNyqELFj2P5"
      },
      "source": [
        "## Load Fake News Challenge Data\n",
        "\n",
        "Open source: https://github.com/FakeNewsChallenge/fnc-1.git"
      ]
    },
    {
      "cell_type": "code",
      "metadata": {
        "colab": {
          "base_uri": "https://localhost:8080/"
        },
        "id": "g1QrlPCokRJZ",
        "outputId": "b852898e-d4b6-4e2a-e14e-3c04efd2eca0"
      },
      "source": [
        "! git clone https://github.com/FakeNewsChallenge/fnc-1.git"
      ],
      "execution_count": null,
      "outputs": [
        {
          "name": "stdout",
          "output_type": "stream",
          "text": [
            "fatal: destination path 'fnc-1' already exists and is not an empty directory.\n"
          ]
        }
      ]
    },
    {
      "cell_type": "markdown",
      "metadata": {
        "id": "IOKH2hi02K3s"
      },
      "source": [
        "## Pre-pocessing"
      ]
    },
    {
      "cell_type": "markdown",
      "metadata": {
        "id": "3TbEbXFZmcWT"
      },
      "source": [
        "### Load csv files."
      ]
    },
    {
      "cell_type": "code",
      "metadata": {
        "id": "nmUXBDFelkhT"
      },
      "source": [
        "# Prepare the data files needed for this project.\n",
        "\n",
        "import os\n",
        "import random\n",
        "import pandas as pd\n",
        "import numpy as np\n",
        "\n",
        "fcn_dir = \"fnc-1\"\n",
        "\n",
        "train_bodies_df = pd.read_csv(os.path.join(fcn_dir, \"train_bodies.csv\"), index_col=[\"Body ID\"])\n",
        "train_stances_df = pd.read_csv(os.path.join(fcn_dir, \"train_stances.csv\"), usecols=[\"Body ID\", \"Headline\", \"Stance\"])\n",
        "\n",
        "test_bodies_df = pd.read_csv(os.path.join(fcn_dir, \"competition_test_bodies.csv\"), index_col=[\"Body ID\"])\n",
        "test_stances_df = pd.read_csv(os.path.join(fcn_dir, \"competition_test_stances.csv\"), usecols=[\"Body ID\", \"Headline\", \"Stance\"])\n"
      ],
      "execution_count": null,
      "outputs": []
    },
    {
      "cell_type": "code",
      "metadata": {
        "colab": {
          "base_uri": "https://localhost:8080/",
          "height": 424
        },
        "id": "szpVdhR90bbG",
        "outputId": "308bfbaa-7a75-475f-bf7c-de10201fcd0c"
      },
      "source": [
        "test_stances_df = test_stances_df.reset_index()\n",
        "test_stances_df.columns = [\"UniqueID\",\"Headline\", \"Body ID\", \"Stance\"]\n",
        "test_stances_df"
      ],
      "execution_count": null,
      "outputs": [
        {
          "data": {
            "text/html": [
              "<div>\n",
              "<style scoped>\n",
              "    .dataframe tbody tr th:only-of-type {\n",
              "        vertical-align: middle;\n",
              "    }\n",
              "\n",
              "    .dataframe tbody tr th {\n",
              "        vertical-align: top;\n",
              "    }\n",
              "\n",
              "    .dataframe thead th {\n",
              "        text-align: right;\n",
              "    }\n",
              "</style>\n",
              "<table border=\"1\" class=\"dataframe\">\n",
              "  <thead>\n",
              "    <tr style=\"text-align: right;\">\n",
              "      <th></th>\n",
              "      <th>UniqueID</th>\n",
              "      <th>Headline</th>\n",
              "      <th>Body ID</th>\n",
              "      <th>Stance</th>\n",
              "    </tr>\n",
              "  </thead>\n",
              "  <tbody>\n",
              "    <tr>\n",
              "      <th>0</th>\n",
              "      <td>0</td>\n",
              "      <td>Ferguson riots: Pregnant woman loses eye after...</td>\n",
              "      <td>2008</td>\n",
              "      <td>unrelated</td>\n",
              "    </tr>\n",
              "    <tr>\n",
              "      <th>1</th>\n",
              "      <td>1</td>\n",
              "      <td>Crazy Conservatives Are Sure a Gitmo Detainee ...</td>\n",
              "      <td>1550</td>\n",
              "      <td>unrelated</td>\n",
              "    </tr>\n",
              "    <tr>\n",
              "      <th>2</th>\n",
              "      <td>2</td>\n",
              "      <td>A Russian Guy Says His Justin Bieber Ringtone ...</td>\n",
              "      <td>2</td>\n",
              "      <td>unrelated</td>\n",
              "    </tr>\n",
              "    <tr>\n",
              "      <th>3</th>\n",
              "      <td>3</td>\n",
              "      <td>Zombie Cat: Buried Kitty Believed Dead, Meows ...</td>\n",
              "      <td>1793</td>\n",
              "      <td>unrelated</td>\n",
              "    </tr>\n",
              "    <tr>\n",
              "      <th>4</th>\n",
              "      <td>4</td>\n",
              "      <td>Argentina's President Adopts Boy to End Werewo...</td>\n",
              "      <td>37</td>\n",
              "      <td>unrelated</td>\n",
              "    </tr>\n",
              "    <tr>\n",
              "      <th>...</th>\n",
              "      <td>...</td>\n",
              "      <td>...</td>\n",
              "      <td>...</td>\n",
              "      <td>...</td>\n",
              "    </tr>\n",
              "    <tr>\n",
              "      <th>25408</th>\n",
              "      <td>25408</td>\n",
              "      <td>The success of the Affordable Care Act is a hu...</td>\n",
              "      <td>2582</td>\n",
              "      <td>agree</td>\n",
              "    </tr>\n",
              "    <tr>\n",
              "      <th>25409</th>\n",
              "      <td>25409</td>\n",
              "      <td>The success of the Affordable Care Act is a hu...</td>\n",
              "      <td>2583</td>\n",
              "      <td>discuss</td>\n",
              "    </tr>\n",
              "    <tr>\n",
              "      <th>25410</th>\n",
              "      <td>25410</td>\n",
              "      <td>The success of the Affordable Care Act is a hu...</td>\n",
              "      <td>2584</td>\n",
              "      <td>disagree</td>\n",
              "    </tr>\n",
              "    <tr>\n",
              "      <th>25411</th>\n",
              "      <td>25411</td>\n",
              "      <td>The success of the Affordable Care Act is a hu...</td>\n",
              "      <td>2585</td>\n",
              "      <td>disagree</td>\n",
              "    </tr>\n",
              "    <tr>\n",
              "      <th>25412</th>\n",
              "      <td>25412</td>\n",
              "      <td>The success of the Affordable Care Act is a hu...</td>\n",
              "      <td>2586</td>\n",
              "      <td>agree</td>\n",
              "    </tr>\n",
              "  </tbody>\n",
              "</table>\n",
              "<p>25413 rows × 4 columns</p>\n",
              "</div>"
            ],
            "text/plain": [
              "       UniqueID  ...     Stance\n",
              "0             0  ...  unrelated\n",
              "1             1  ...  unrelated\n",
              "2             2  ...  unrelated\n",
              "3             3  ...  unrelated\n",
              "4             4  ...  unrelated\n",
              "...         ...  ...        ...\n",
              "25408     25408  ...      agree\n",
              "25409     25409  ...    discuss\n",
              "25410     25410  ...   disagree\n",
              "25411     25411  ...   disagree\n",
              "25412     25412  ...      agree\n",
              "\n",
              "[25413 rows x 4 columns]"
            ]
          },
          "execution_count": 4,
          "metadata": {},
          "output_type": "execute_result"
        }
      ]
    },
    {
      "cell_type": "code",
      "metadata": {
        "colab": {
          "base_uri": "https://localhost:8080/",
          "height": 455
        },
        "id": "MvAaOa9i0LnB",
        "outputId": "cb7f58ef-a392-4c71-8e63-7014d6f3ea3e"
      },
      "source": [
        "test_bodies_df"
      ],
      "execution_count": null,
      "outputs": [
        {
          "data": {
            "text/html": [
              "<div>\n",
              "<style scoped>\n",
              "    .dataframe tbody tr th:only-of-type {\n",
              "        vertical-align: middle;\n",
              "    }\n",
              "\n",
              "    .dataframe tbody tr th {\n",
              "        vertical-align: top;\n",
              "    }\n",
              "\n",
              "    .dataframe thead th {\n",
              "        text-align: right;\n",
              "    }\n",
              "</style>\n",
              "<table border=\"1\" class=\"dataframe\">\n",
              "  <thead>\n",
              "    <tr style=\"text-align: right;\">\n",
              "      <th></th>\n",
              "      <th>articleBody</th>\n",
              "    </tr>\n",
              "    <tr>\n",
              "      <th>Body ID</th>\n",
              "      <th></th>\n",
              "    </tr>\n",
              "  </thead>\n",
              "  <tbody>\n",
              "    <tr>\n",
              "      <th>1</th>\n",
              "      <td>Al-Sisi has denied Israeli reports stating tha...</td>\n",
              "    </tr>\n",
              "    <tr>\n",
              "      <th>2</th>\n",
              "      <td>A bereaved Afghan mother took revenge on the T...</td>\n",
              "    </tr>\n",
              "    <tr>\n",
              "      <th>3</th>\n",
              "      <td>CNBC is reporting Tesla has chosen Nevada as t...</td>\n",
              "    </tr>\n",
              "    <tr>\n",
              "      <th>12</th>\n",
              "      <td>A 4-inch version of the iPhone 6 is said to be...</td>\n",
              "    </tr>\n",
              "    <tr>\n",
              "      <th>19</th>\n",
              "      <td>GR editor’s Note\\n\\nThere are no reports in th...</td>\n",
              "    </tr>\n",
              "    <tr>\n",
              "      <th>...</th>\n",
              "      <td>...</td>\n",
              "    </tr>\n",
              "    <tr>\n",
              "      <th>2582</th>\n",
              "      <td>Congressional Republicans, evidently hoping th...</td>\n",
              "    </tr>\n",
              "    <tr>\n",
              "      <th>2583</th>\n",
              "      <td>Did Obamacare work?\\n\\nIt’s worth reflecting u...</td>\n",
              "    </tr>\n",
              "    <tr>\n",
              "      <th>2584</th>\n",
              "      <td>Millions may lose coverage next year if Congre...</td>\n",
              "    </tr>\n",
              "    <tr>\n",
              "      <th>2585</th>\n",
              "      <td>Come November, the grim trudge across the incr...</td>\n",
              "    </tr>\n",
              "    <tr>\n",
              "      <th>2586</th>\n",
              "      <td>Remember how much Republicans wanted to repeal...</td>\n",
              "    </tr>\n",
              "  </tbody>\n",
              "</table>\n",
              "<p>904 rows × 1 columns</p>\n",
              "</div>"
            ],
            "text/plain": [
              "                                               articleBody\n",
              "Body ID                                                   \n",
              "1        Al-Sisi has denied Israeli reports stating tha...\n",
              "2        A bereaved Afghan mother took revenge on the T...\n",
              "3        CNBC is reporting Tesla has chosen Nevada as t...\n",
              "12       A 4-inch version of the iPhone 6 is said to be...\n",
              "19       GR editor’s Note\\n\\nThere are no reports in th...\n",
              "...                                                    ...\n",
              "2582     Congressional Republicans, evidently hoping th...\n",
              "2583     Did Obamacare work?\\n\\nIt’s worth reflecting u...\n",
              "2584     Millions may lose coverage next year if Congre...\n",
              "2585     Come November, the grim trudge across the incr...\n",
              "2586     Remember how much Republicans wanted to repeal...\n",
              "\n",
              "[904 rows x 1 columns]"
            ]
          },
          "execution_count": 5,
          "metadata": {},
          "output_type": "execute_result"
        }
      ]
    },
    {
      "cell_type": "markdown",
      "metadata": {
        "id": "tpTzXK5gmiuh"
      },
      "source": [
        "### Convert & Merge"
      ]
    },
    {
      "cell_type": "code",
      "metadata": {
        "id": "BloPwYjmmQLF"
      },
      "source": [
        "def convert_stance_to_int(stance: str) -> int:\n",
        "    mapping = {\n",
        "        \"unrelated\": 0,\n",
        "        \"discuss\"  : 1,\n",
        "        \"agree\"    : 2,\n",
        "        \"disagree\" : 3\n",
        "    }\n",
        "    return mapping[stance]\n",
        "\n",
        "def convert_int_to_stance(stance_id: int) -> str:\n",
        "    mapping = {\n",
        "        0: \"unrelated\",\n",
        "        1: \"discuss\",\n",
        "        2: \"agree\",\n",
        "        3: \"disagree\"\n",
        "    }\n",
        "    return mapping[stance_id]\n",
        "\n",
        "n_classes = 4"
      ],
      "execution_count": null,
      "outputs": []
    },
    {
      "cell_type": "code",
      "metadata": {
        "id": "20qmN3aMmWIa"
      },
      "source": [
        "train_stances_df[\"Stance\"] = train_stances_df[\"Stance\"].apply(lambda x: convert_stance_to_int(x))\n",
        "test_stances_df[\"Stance\"] = test_stances_df[\"Stance\"].apply(lambda x: convert_stance_to_int(x))\n"
      ],
      "execution_count": null,
      "outputs": []
    },
    {
      "cell_type": "code",
      "metadata": {
        "colab": {
          "base_uri": "https://localhost:8080/",
          "height": 424
        },
        "id": "3Pb8G74OnL-7",
        "outputId": "7cc84ccc-5a20-4020-a1d1-c4a5c1e1a77a"
      },
      "source": [
        "train_df = pd.merge(left=train_stances_df, left_on=train_stances_df[\"Body ID\"],\n",
        "                    right=train_bodies_df, right_on=train_bodies_df.index)\n",
        "train_df = train_df.sample(frac=1)\n",
        "train_df[\"Mixed\"] = train_df[\"Headline\"] + \"[SEP]\" + train_df[\"articleBody\"] \n",
        "train_df = train_df[[\"Body ID\", \"Mixed\", \"Stance\"]]\n",
        "train_df"
      ],
      "execution_count": null,
      "outputs": [
        {
          "data": {
            "text/html": [
              "<div>\n",
              "<style scoped>\n",
              "    .dataframe tbody tr th:only-of-type {\n",
              "        vertical-align: middle;\n",
              "    }\n",
              "\n",
              "    .dataframe tbody tr th {\n",
              "        vertical-align: top;\n",
              "    }\n",
              "\n",
              "    .dataframe thead th {\n",
              "        text-align: right;\n",
              "    }\n",
              "</style>\n",
              "<table border=\"1\" class=\"dataframe\">\n",
              "  <thead>\n",
              "    <tr style=\"text-align: right;\">\n",
              "      <th></th>\n",
              "      <th>Body ID</th>\n",
              "      <th>Mixed</th>\n",
              "      <th>Stance</th>\n",
              "    </tr>\n",
              "  </thead>\n",
              "  <tbody>\n",
              "    <tr>\n",
              "      <th>40261</th>\n",
              "      <td>752</td>\n",
              "      <td>Did Kim Yo-Jong Take Kim Jong Un’s Role? North...</td>\n",
              "      <td>0</td>\n",
              "    </tr>\n",
              "    <tr>\n",
              "      <th>33359</th>\n",
              "      <td>1166</td>\n",
              "      <td>ISIS beheads American photo-journalist James W...</td>\n",
              "      <td>0</td>\n",
              "    </tr>\n",
              "    <tr>\n",
              "      <th>27620</th>\n",
              "      <td>2272</td>\n",
              "      <td>Rumor: Seth Rogen to Appear as Woz in Sony's S...</td>\n",
              "      <td>0</td>\n",
              "    </tr>\n",
              "    <tr>\n",
              "      <th>41445</th>\n",
              "      <td>493</td>\n",
              "      <td>Purported ISIS claim: Jordan airstrike kills f...</td>\n",
              "      <td>0</td>\n",
              "    </tr>\n",
              "    <tr>\n",
              "      <th>14838</th>\n",
              "      <td>1605</td>\n",
              "      <td>Catholic priest dies for 48 mins, wakes up cla...</td>\n",
              "      <td>0</td>\n",
              "    </tr>\n",
              "    <tr>\n",
              "      <th>...</th>\n",
              "      <td>...</td>\n",
              "      <td>...</td>\n",
              "      <td>...</td>\n",
              "    </tr>\n",
              "    <tr>\n",
              "      <th>41291</th>\n",
              "      <td>1427</td>\n",
              "      <td>Mexico hit by student massacre: At least 17 an...</td>\n",
              "      <td>3</td>\n",
              "    </tr>\n",
              "    <tr>\n",
              "      <th>14137</th>\n",
              "      <td>2403</td>\n",
              "      <td>New Audio Allegedly Captures Moment Michael Br...</td>\n",
              "      <td>0</td>\n",
              "    </tr>\n",
              "    <tr>\n",
              "      <th>5354</th>\n",
              "      <td>1744</td>\n",
              "      <td>Apple Watch to Be Shower-Proof, Have 100,000 A...</td>\n",
              "      <td>0</td>\n",
              "    </tr>\n",
              "    <tr>\n",
              "      <th>15195</th>\n",
              "      <td>1489</td>\n",
              "      <td>11 jetliners 'missing' after Islamist takeover...</td>\n",
              "      <td>0</td>\n",
              "    </tr>\n",
              "    <tr>\n",
              "      <th>29406</th>\n",
              "      <td>649</td>\n",
              "      <td>NASA Raises Doubts About Reports of Nicaraguan...</td>\n",
              "      <td>0</td>\n",
              "    </tr>\n",
              "  </tbody>\n",
              "</table>\n",
              "<p>49972 rows × 3 columns</p>\n",
              "</div>"
            ],
            "text/plain": [
              "       Body ID                                              Mixed  Stance\n",
              "40261      752  Did Kim Yo-Jong Take Kim Jong Un’s Role? North...       0\n",
              "33359     1166  ISIS beheads American photo-journalist James W...       0\n",
              "27620     2272  Rumor: Seth Rogen to Appear as Woz in Sony's S...       0\n",
              "41445      493  Purported ISIS claim: Jordan airstrike kills f...       0\n",
              "14838     1605  Catholic priest dies for 48 mins, wakes up cla...       0\n",
              "...        ...                                                ...     ...\n",
              "41291     1427  Mexico hit by student massacre: At least 17 an...       3\n",
              "14137     2403  New Audio Allegedly Captures Moment Michael Br...       0\n",
              "5354      1744  Apple Watch to Be Shower-Proof, Have 100,000 A...       0\n",
              "15195     1489  11 jetliners 'missing' after Islamist takeover...       0\n",
              "29406      649  NASA Raises Doubts About Reports of Nicaraguan...       0\n",
              "\n",
              "[49972 rows x 3 columns]"
            ]
          },
          "execution_count": 8,
          "metadata": {},
          "output_type": "execute_result"
        }
      ]
    },
    {
      "cell_type": "code",
      "metadata": {
        "colab": {
          "base_uri": "https://localhost:8080/",
          "height": 455
        },
        "id": "47h_ZhWJnSFc",
        "outputId": "135d9fbf-1856-4cd9-82eb-2904b1c10ce7"
      },
      "source": [
        "test_df = pd.merge(left=test_stances_df, left_on=test_stances_df[\"Body ID\"],\n",
        "                    right=test_bodies_df, right_on=test_bodies_df.index, left_index=True)\n",
        "test_df[\"Mixed\"] = test_df[\"Headline\"] + \"[SEP]\" + test_df[\"articleBody\"] \n",
        "test_df = test_df[[\"UniqueID\", \"Body ID\", \"Mixed\", \"Stance\"]]\n",
        "\n",
        "test_df = test_df.sort_values(by=\"UniqueID\")\n",
        "test_df"
      ],
      "execution_count": null,
      "outputs": [
        {
          "data": {
            "text/html": [
              "<div>\n",
              "<style scoped>\n",
              "    .dataframe tbody tr th:only-of-type {\n",
              "        vertical-align: middle;\n",
              "    }\n",
              "\n",
              "    .dataframe tbody tr th {\n",
              "        vertical-align: top;\n",
              "    }\n",
              "\n",
              "    .dataframe thead th {\n",
              "        text-align: right;\n",
              "    }\n",
              "</style>\n",
              "<table border=\"1\" class=\"dataframe\">\n",
              "  <thead>\n",
              "    <tr style=\"text-align: right;\">\n",
              "      <th></th>\n",
              "      <th>UniqueID</th>\n",
              "      <th>Body ID</th>\n",
              "      <th>Mixed</th>\n",
              "      <th>Stance</th>\n",
              "    </tr>\n",
              "    <tr>\n",
              "      <th>Body ID</th>\n",
              "      <th></th>\n",
              "      <th></th>\n",
              "      <th></th>\n",
              "      <th></th>\n",
              "    </tr>\n",
              "  </thead>\n",
              "  <tbody>\n",
              "    <tr>\n",
              "      <th>2008</th>\n",
              "      <td>0</td>\n",
              "      <td>2008</td>\n",
              "      <td>Ferguson riots: Pregnant woman loses eye after...</td>\n",
              "      <td>0</td>\n",
              "    </tr>\n",
              "    <tr>\n",
              "      <th>1550</th>\n",
              "      <td>1</td>\n",
              "      <td>1550</td>\n",
              "      <td>Crazy Conservatives Are Sure a Gitmo Detainee ...</td>\n",
              "      <td>0</td>\n",
              "    </tr>\n",
              "    <tr>\n",
              "      <th>2</th>\n",
              "      <td>2</td>\n",
              "      <td>2</td>\n",
              "      <td>A Russian Guy Says His Justin Bieber Ringtone ...</td>\n",
              "      <td>0</td>\n",
              "    </tr>\n",
              "    <tr>\n",
              "      <th>1793</th>\n",
              "      <td>3</td>\n",
              "      <td>1793</td>\n",
              "      <td>Zombie Cat: Buried Kitty Believed Dead, Meows ...</td>\n",
              "      <td>0</td>\n",
              "    </tr>\n",
              "    <tr>\n",
              "      <th>37</th>\n",
              "      <td>4</td>\n",
              "      <td>37</td>\n",
              "      <td>Argentina's President Adopts Boy to End Werewo...</td>\n",
              "      <td>0</td>\n",
              "    </tr>\n",
              "    <tr>\n",
              "      <th>...</th>\n",
              "      <td>...</td>\n",
              "      <td>...</td>\n",
              "      <td>...</td>\n",
              "      <td>...</td>\n",
              "    </tr>\n",
              "    <tr>\n",
              "      <th>2582</th>\n",
              "      <td>25408</td>\n",
              "      <td>2582</td>\n",
              "      <td>The success of the Affordable Care Act is a hu...</td>\n",
              "      <td>2</td>\n",
              "    </tr>\n",
              "    <tr>\n",
              "      <th>2583</th>\n",
              "      <td>25409</td>\n",
              "      <td>2583</td>\n",
              "      <td>The success of the Affordable Care Act is a hu...</td>\n",
              "      <td>1</td>\n",
              "    </tr>\n",
              "    <tr>\n",
              "      <th>2584</th>\n",
              "      <td>25410</td>\n",
              "      <td>2584</td>\n",
              "      <td>The success of the Affordable Care Act is a hu...</td>\n",
              "      <td>3</td>\n",
              "    </tr>\n",
              "    <tr>\n",
              "      <th>2585</th>\n",
              "      <td>25411</td>\n",
              "      <td>2585</td>\n",
              "      <td>The success of the Affordable Care Act is a hu...</td>\n",
              "      <td>3</td>\n",
              "    </tr>\n",
              "    <tr>\n",
              "      <th>2586</th>\n",
              "      <td>25412</td>\n",
              "      <td>2586</td>\n",
              "      <td>The success of the Affordable Care Act is a hu...</td>\n",
              "      <td>2</td>\n",
              "    </tr>\n",
              "  </tbody>\n",
              "</table>\n",
              "<p>25413 rows × 4 columns</p>\n",
              "</div>"
            ],
            "text/plain": [
              "         UniqueID  ...  Stance\n",
              "Body ID            ...        \n",
              "2008            0  ...       0\n",
              "1550            1  ...       0\n",
              "2               2  ...       0\n",
              "1793            3  ...       0\n",
              "37              4  ...       0\n",
              "...           ...  ...     ...\n",
              "2582        25408  ...       2\n",
              "2583        25409  ...       1\n",
              "2584        25410  ...       3\n",
              "2585        25411  ...       3\n",
              "2586        25412  ...       2\n",
              "\n",
              "[25413 rows x 4 columns]"
            ]
          },
          "execution_count": 9,
          "metadata": {},
          "output_type": "execute_result"
        }
      ]
    },
    {
      "cell_type": "markdown",
      "metadata": {
        "id": "SIVyPeJgn2u9"
      },
      "source": [
        "## Logistic Regression & Naive Bayes"
      ]
    },
    {
      "cell_type": "markdown",
      "metadata": {
        "id": "yShJdeyMoDIS"
      },
      "source": [
        "### TFIDF and Count"
      ]
    },
    {
      "cell_type": "code",
      "metadata": {
        "id": "spu1kNWcoG26"
      },
      "source": [
        "from sklearn.feature_extraction.text import CountVectorizer, TfidfVectorizer\n",
        "from sklearn.preprocessing import label_binarize\n",
        "\n",
        "train_count_vec = CountVectorizer(ngram_range=(1,2), stop_words=\"english\")\n",
        "train_tfidf_vec = TfidfVectorizer(ngram_range=(1,2), stop_words=\"english\")\n",
        "\n",
        "train_binarized_X = train_df[\"Mixed\"]\n",
        "train_binarized_y = label_binarize(train_df[\"Stance\"], classes=[0, 1, 2, 3])\n",
        "n_classes = train_binarized_y.shape[1]\n"
      ],
      "execution_count": null,
      "outputs": []
    },
    {
      "cell_type": "code",
      "metadata": {
        "id": "TFxg6WTnzVgC"
      },
      "source": [
        "train_count_encoding = train_count_vec.fit_transform(train_binarized_X)\n",
        "train_tfidf_encoding = train_tfidf_vec.fit_transform(train_binarized_X)"
      ],
      "execution_count": null,
      "outputs": []
    },
    {
      "cell_type": "code",
      "metadata": {
        "id": "qS8N88tk73jQ"
      },
      "source": [
        "test_binarized_X = test_df[\"Mixed\"]\n",
        "test_binarized_y = label_binarize(test_df[\"Stance\"], classes=[0, 1, 2, 3])\n",
        "\n",
        "test_count_encoding = train_count_vec.transform(test_binarized_X)\n",
        "test_tfidf_encoding = train_tfidf_vec.transform(test_binarized_X)"
      ],
      "execution_count": null,
      "outputs": []
    },
    {
      "cell_type": "markdown",
      "metadata": {
        "id": "t7BpyfoJovyq"
      },
      "source": [
        "### Visualize \n"
      ]
    },
    {
      "cell_type": "code",
      "metadata": {
        "id": "KboLBjtYo3pF"
      },
      "source": [
        "from itertools import cycle\n",
        "\n",
        "def roc_processor(_y_true, _y_score, target_ax, title):\n",
        "    fpr = dict()\n",
        "    tpr = dict()\n",
        "    roc_auc = dict()\n",
        "    for i in range(n_classes):\n",
        "        fpr[i], tpr[i], _ = roc_curve(_y_true[:, i], _y_score[:, i])\n",
        "        roc_auc[i] = auc(fpr[i], tpr[i])\n",
        "\n",
        "    # Compute micro-average ROC curve and ROC area\n",
        "    fpr[\"micro\"], tpr[\"micro\"], _ = roc_curve(_y_true.ravel(), _y_score.ravel())\n",
        "    roc_auc[\"micro\"] = auc(fpr[\"micro\"], tpr[\"micro\"])\n",
        "\n",
        "    # First aggregate all false positive rates\n",
        "    all_fpr = np.unique(np.concatenate([fpr[i] for i in range(n_classes)]))\n",
        "\n",
        "    # Then interpolate all ROC curves at this points\n",
        "    mean_tpr = np.zeros_like(all_fpr)\n",
        "    for i in range(n_classes):\n",
        "        mean_tpr += np.interp(all_fpr, fpr[i], tpr[i])\n",
        "\n",
        "    # Finally average it and compute AUC\n",
        "    mean_tpr /= n_classes\n",
        "\n",
        "    fpr[\"macro\"] = all_fpr\n",
        "    tpr[\"macro\"] = mean_tpr\n",
        "    roc_auc[\"macro\"] = auc(fpr[\"macro\"], tpr[\"macro\"])\n",
        "\n",
        "    # Plot all ROC curves\n",
        "    target_ax.plot(\n",
        "        fpr[\"micro\"],\n",
        "        tpr[\"micro\"],\n",
        "        label=\"micro-average ROC curve (area = {0:0.2f})\".format(roc_auc[\"micro\"]),\n",
        "        color=\"deeppink\",\n",
        "        linestyle=\":\",\n",
        "        linewidth=4,\n",
        "    )\n",
        "\n",
        "    target_ax.plot(\n",
        "        fpr[\"macro\"],\n",
        "        tpr[\"macro\"],\n",
        "        label=\"macro-average ROC curve (area = {0:0.2f})\".format(roc_auc[\"macro\"]),\n",
        "        color=\"navy\",\n",
        "        linestyle=\":\",\n",
        "        linewidth=4,\n",
        "    )\n",
        "\n",
        "    lw = 2\n",
        "\n",
        "    colors = cycle([\"aqua\", \"darkorange\", \"cornflowerblue\"])\n",
        "    for i, color in zip(range(n_classes), colors):\n",
        "        target_ax.plot(\n",
        "            fpr[i],\n",
        "            tpr[i],\n",
        "            color=color,\n",
        "            lw=lw,\n",
        "            label=\"ROC curve of class {0} (area = {1:0.2f})\".format(i, roc_auc[i]),\n",
        "        )\n",
        "\n",
        "    target_ax.plot([0, 1], [0, 1], \"k--\", lw=lw)\n",
        "    target_ax.set_xlabel(\"False Positive Rate\")\n",
        "    target_ax.set_ylabel(\"True Positive Rate\")\n",
        "    target_ax.title.set_text(title)\n",
        "    target_ax.legend(loc=\"lower right\")\n"
      ],
      "execution_count": null,
      "outputs": []
    },
    {
      "cell_type": "markdown",
      "metadata": {
        "id": "FZMy5K9ooy-Z"
      },
      "source": [
        "### Compare"
      ]
    },
    {
      "cell_type": "code",
      "metadata": {
        "colab": {
          "base_uri": "https://localhost:8080/",
          "height": 893
        },
        "id": "a9H2EMHVo3NR",
        "outputId": "a74993e8-04fd-48f8-d6ee-0fe388fde878"
      },
      "source": [
        "from sklearn.linear_model import LogisticRegression\n",
        "from sklearn.naive_bayes import BernoulliNB\n",
        "from sklearn.multiclass import OneVsRestClassifier\n",
        "\n",
        "from sklearn.metrics import plot_roc_curve, roc_curve, auc, roc_auc_score\n",
        "from sklearn.model_selection import train_test_split\n",
        "\n",
        "import matplotlib.pyplot as plt\n",
        "\n",
        "lr = LogisticRegression(multi_class=\"multinomial\")\n",
        "bn = BernoulliNB()\n",
        "\n",
        "model_names = [\"LogisticRegression\", \"BernoulliNB\"]\n",
        "enc_names = [\"CountVectorizer\", \"TfidfVectorizer\"]\n",
        "\n",
        "model_dict = {}\n",
        "\n",
        "fig, axs = plt.subplots(2, 2, figsize=(15,15))\n",
        "for model_id, model in enumerate([lr, bn]):\n",
        "    for enc_id, enc in enumerate([train_tfidf_encoding, train_count_encoding]):\n",
        "        _x_train, _x_test, _y_train, _y_test = train_test_split(enc, train_binarized_y, test_size=0.3, random_state=42)\n",
        "\n",
        "        classifier = OneVsRestClassifier(model)\n",
        "        y_score = classifier.fit(_x_train, _y_train).predict_proba(_x_test)\n",
        "\n",
        "        model_dict[f\"{model_names[model_id]}_with_{enc_names[enc_id]}\"] = classifier\n",
        "\n",
        "        title = f\"ROC curve with {model_names[model_id]} and {enc_names[enc_id]}\"\n",
        "        roc_processor(_y_test, y_score, axs[model_id, enc_id], title)"
      ],
      "execution_count": null,
      "outputs": [
        {
          "data": {
            "image/png": "[encoded data removed]",
            "text/plain": [
              "<Figure size 1080x1080 with 4 Axes>"
            ]
          },
          "metadata": {},
          "output_type": "display_data"
        }
      ]
    },
    {
      "cell_type": "markdown",
      "metadata": {
        "id": "qrYP6TTATS6r"
      },
      "source": [
        "### Output predictions"
      ]
    },
    {
      "cell_type": "code",
      "metadata": {
        "colab": {
          "base_uri": "https://localhost:8080/"
        },
        "id": "iRR-BbYa10UU",
        "outputId": "1026153d-6da8-4828-f840-bf547494bc93"
      },
      "source": [
        "model_dict"
      ],
      "execution_count": null,
      "outputs": [
        {
          "data": {
            "text/plain": [
              "{'BernoulliNB_with_CountVectorizer': OneVsRestClassifier(estimator=BernoulliNB()),\n",
              " 'BernoulliNB_with_TfidfVectorizer': OneVsRestClassifier(estimator=BernoulliNB()),\n",
              " 'LogisticRegression_with_CountVectorizer': OneVsRestClassifier(estimator=LogisticRegression(multi_class='multinomial')),\n",
              " 'LogisticRegression_with_TfidfVectorizer': OneVsRestClassifier(estimator=LogisticRegression(multi_class='multinomial'))}"
            ]
          },
          "execution_count": 15,
          "metadata": {},
          "output_type": "execute_result"
        }
      ]
    },
    {
      "cell_type": "code",
      "metadata": {
        "id": "fv7d03QD8f1c"
      },
      "source": [
        "def convert_predict(_multi_model, _x_test):\n",
        "    _multi_label = _multi_model.predict(_x_test)\n",
        "    _y_pred = np.argmax(_multi_label, axis=1)\n",
        "    _y_pred = list(map(lambda x: convert_int_to_stance(x), _y_pred))\n",
        "    return _y_pred\n"
      ],
      "execution_count": null,
      "outputs": []
    },
    {
      "cell_type": "code",
      "metadata": {
        "id": "UxhpFho7SsyH"
      },
      "source": [
        "for model_id, model in enumerate([lr, bn]):\n",
        "    for enc_id, enc in enumerate([test_tfidf_encoding, test_count_encoding]):\n",
        "        \n",
        "        if enc_id == 0:\n",
        "            input_enc = test_tfidf_encoding\n",
        "        else:\n",
        "            input_enc = test_count_encoding\n",
        "\n",
        "        pred_result = convert_predict(model_dict[f\"{model_names[model_id]}_with_{enc_names[enc_id]}\"], input_enc)\n",
        "        pred_stances_df = test_stances_df.copy(deep=True)[[\"Headline\", \"Body ID\",\"Stance\"]]\n",
        "        pred_stances_df[\"Stance\"] = pred_result\n",
        "        pred_stances_df.to_csv(f\"{model_names[model_id]}_with_{enc_names[enc_id]}\"+\".csv\", index=False)"
      ],
      "execution_count": null,
      "outputs": []
    },
    {
      "cell_type": "code",
      "metadata": {
        "colab": {
          "base_uri": "https://localhost:8080/"
        },
        "id": "d8SpYrThSrcq",
        "outputId": "57041a14-3e74-42ae-86ac-9f8dc1bfa9da"
      },
      "source": [
        "from sklearn.metrics import accuracy_score, precision_score, f1_score, confusion_matrix\n",
        "\n",
        "for model_id, model in enumerate([lr, bn]):\n",
        "    for enc_id, enc in enumerate([test_tfidf_encoding, test_count_encoding]):\n",
        "        _multi_model = model_dict[f\"{model_names[model_id]}_with_{enc_names[enc_id]}\"]\n",
        "        \n",
        "        if enc_id == 0:\n",
        "            input_enc = test_tfidf_encoding\n",
        "        else:\n",
        "            input_enc = test_count_encoding\n",
        "        \n",
        "        _multi_label = _multi_model.predict(input_enc)\n",
        "        _y_pred = np.argmax(_multi_label, axis=1)\n",
        "        \n",
        "        y_trues_for_output, y_preds_for_output = test_df[\"Stance\"], _y_pred\n",
        "\n",
        "        acc = accuracy_score(y_trues_for_output, y_preds_for_output)\n",
        "        pre = precision_score(y_trues_for_output, y_preds_for_output, average=\"weighted\")\n",
        "        f1 = f1_score(y_trues_for_output, y_preds_for_output, average=\"weighted\")\n",
        "        print(f\"{model_names[model_id]}_with_{enc_names[enc_id]}:\")\n",
        "        print(f\"accuracy_score={acc}, precision_score={pre}, f1_score={f1}.\\n\")\n",
        "        confusion_matrix(y_trues_for_output, y_preds_for_output)\n"
      ],
      "execution_count": null,
      "outputs": [
        {
          "name": "stdout",
          "output_type": "stream",
          "text": [
            "LogisticRegression_with_CountVectorizer:\n",
            "accuracy_score=0.706331405186322, precision_score=0.5818636367482759, f1_score=0.6216797295066462.\n",
            "\n",
            "LogisticRegression_with_TfidfVectorizer:\n",
            "accuracy_score=0.5767127060953056, precision_score=0.573692708912202, f1_score=0.5727592958512385.\n",
            "\n",
            "BernoulliNB_with_CountVectorizer:\n",
            "accuracy_score=0.6654468185574313, precision_score=0.5656983124988954, f1_score=0.6089340225893998.\n",
            "\n",
            "BernoulliNB_with_TfidfVectorizer:\n",
            "accuracy_score=0.6654468185574313, precision_score=0.5656983124988954, f1_score=0.6089340225893998.\n",
            "\n"
          ]
        }
      ]
    },
    {
      "cell_type": "code",
      "metadata": {
        "colab": {
          "base_uri": "https://localhost:8080/"
        },
        "id": "1zDGHcGiEMN9",
        "outputId": "c9186a2f-89d6-49e4-c39b-196360b21794"
      },
      "source": [
        "! python fnc-1/scorer.py fnc-1/competition_test_stances.csv BernoulliNB_with_CountVectorizer.csv"
      ],
      "execution_count": null,
      "outputs": [
        {
          "name": "stdout",
          "output_type": "stream",
          "text": [
            "CONFUSION MATRIX:\n",
            "-------------------------------------------------------------\n",
            "|           |   agree   | disagree  |  discuss  | unrelated |\n",
            "-------------------------------------------------------------\n",
            "|   agree   |     0     |     0     |    140    |   1763    |\n",
            "-------------------------------------------------------------\n",
            "| disagree  |     0     |     0     |    20     |    677    |\n",
            "-------------------------------------------------------------\n",
            "|  discuss  |     0     |     0     |    756    |   3708    |\n",
            "-------------------------------------------------------------\n",
            "| unrelated |     0     |     0     |   2194    |   16155   |\n",
            "-------------------------------------------------------------\n",
            "ACCURACY: 0.665\n",
            "\n",
            "MAX  - the best possible score (100% accuracy)\n",
            "NULL - score as if all predicted stances were unrelated\n",
            "TEST - score based on the provided predictions\n",
            "\n",
            "||    MAX    ||    NULL   ||    TEST   ||\n",
            "|| 11651.25  ||  4587.25  ||  4834.75  ||\n",
            "\n"
          ]
        }
      ]
    },
    {
      "cell_type": "code",
      "metadata": {
        "colab": {
          "base_uri": "https://localhost:8080/"
        },
        "id": "UpHCcFg4FgZN",
        "outputId": "3103104f-c866-4a79-cc74-717fa6c04375"
      },
      "source": [
        "! python fnc-1/scorer.py fnc-1/competition_test_stances.csv BernoulliNB_with_TfidfVectorizer.csv"
      ],
      "execution_count": null,
      "outputs": [
        {
          "name": "stdout",
          "output_type": "stream",
          "text": [
            "CONFUSION MATRIX:\n",
            "-------------------------------------------------------------\n",
            "|           |   agree   | disagree  |  discuss  | unrelated |\n",
            "-------------------------------------------------------------\n",
            "|   agree   |     0     |     0     |    140    |   1763    |\n",
            "-------------------------------------------------------------\n",
            "| disagree  |     0     |     0     |    20     |    677    |\n",
            "-------------------------------------------------------------\n",
            "|  discuss  |     0     |     0     |    756    |   3708    |\n",
            "-------------------------------------------------------------\n",
            "| unrelated |     0     |     0     |   2194    |   16155   |\n",
            "-------------------------------------------------------------\n",
            "ACCURACY: 0.665\n",
            "\n",
            "MAX  - the best possible score (100% accuracy)\n",
            "NULL - score as if all predicted stances were unrelated\n",
            "TEST - score based on the provided predictions\n",
            "\n",
            "||    MAX    ||    NULL   ||    TEST   ||\n",
            "|| 11651.25  ||  4587.25  ||  4834.75  ||\n",
            "\n"
          ]
        }
      ]
    },
    {
      "cell_type": "code",
      "metadata": {
        "colab": {
          "base_uri": "https://localhost:8080/"
        },
        "id": "GU00zY1SETCR",
        "outputId": "861a0fda-1deb-4be2-d2fe-511a7c9caffb"
      },
      "source": [
        "! python fnc-1/scorer.py fnc-1/competition_test_stances.csv LogisticRegression_with_CountVectorizer.csv"
      ],
      "execution_count": null,
      "outputs": [
        {
          "name": "stdout",
          "output_type": "stream",
          "text": [
            "CONFUSION MATRIX:\n",
            "-------------------------------------------------------------\n",
            "|           |   agree   | disagree  |  discuss  | unrelated |\n",
            "-------------------------------------------------------------\n",
            "|   agree   |     0     |     0     |    50     |   1853    |\n",
            "-------------------------------------------------------------\n",
            "| disagree  |     0     |     0     |     2     |    695    |\n",
            "-------------------------------------------------------------\n",
            "|  discuss  |     0     |     0     |    420    |   4044    |\n",
            "-------------------------------------------------------------\n",
            "| unrelated |     0     |     0     |    819    |   17530   |\n",
            "-------------------------------------------------------------\n",
            "ACCURACY: 0.706\n",
            "\n",
            "MAX  - the best possible score (100% accuracy)\n",
            "NULL - score as if all predicted stances were unrelated\n",
            "TEST - score based on the provided predictions\n",
            "\n",
            "||    MAX    ||    NULL   ||    TEST   ||\n",
            "|| 11651.25  ||  4587.25  ||  4815.5   ||\n",
            "\n"
          ]
        }
      ]
    },
    {
      "cell_type": "code",
      "metadata": {
        "colab": {
          "base_uri": "https://localhost:8080/"
        },
        "id": "4O27oR-gCiC-",
        "outputId": "5624dc3a-f9a2-4d4d-a5e5-6f7dd284901c"
      },
      "source": [
        "! python fnc-1/scorer.py fnc-1/competition_test_stances.csv LogisticRegression_with_TfidfVectorizer.csv"
      ],
      "execution_count": null,
      "outputs": [
        {
          "name": "stdout",
          "output_type": "stream",
          "text": [
            "CONFUSION MATRIX:\n",
            "-------------------------------------------------------------\n",
            "|           |   agree   | disagree  |  discuss  | unrelated |\n",
            "-------------------------------------------------------------\n",
            "|   agree   |    150    |     0     |    166    |   1587    |\n",
            "-------------------------------------------------------------\n",
            "| disagree  |    27     |     0     |    86     |    584    |\n",
            "-------------------------------------------------------------\n",
            "|  discuss  |    51     |     0     |   1557    |   2856    |\n",
            "-------------------------------------------------------------\n",
            "| unrelated |    806    |     0     |   4594    |   12949   |\n",
            "-------------------------------------------------------------\n",
            "ACCURACY: 0.577\n",
            "\n",
            "MAX  - the best possible score (100% accuracy)\n",
            "NULL - score as if all predicted stances were unrelated\n",
            "TEST - score based on the provided predictions\n",
            "\n",
            "||    MAX    ||    NULL   ||    TEST   ||\n",
            "|| 11651.25  ||  4587.25  ||  5026.75  ||\n",
            "\n"
          ]
        }
      ]
    },
    {
      "cell_type": "markdown",
      "metadata": {
        "id": "c9kzkFuA3ACe"
      },
      "source": [
        "## Bert Model"
      ]
    },
    {
      "cell_type": "markdown",
      "metadata": {
        "id": "4iMyyDxgsWjS"
      },
      "source": [
        "### Prepare TPU environment"
      ]
    },
    {
      "cell_type": "code",
      "metadata": {
        "id": "U_v0z09BpknK"
      },
      "source": [
        "# TPU, GPU, or CPU\n",
        "import os\n",
        "assert os.environ['COLAB_TPU_ADDR'], 'Make sure to select TPU from Edit > Notebook settings > Hardware accelerator'"
      ],
      "execution_count": null,
      "outputs": []
    },
    {
      "cell_type": "code",
      "metadata": {
        "colab": {
          "base_uri": "https://localhost:8080/"
        },
        "id": "fVu3eswblefp",
        "outputId": "2d7185ab-ed2f-460a-e47f-71dcf5ab958d"
      },
      "source": [
        "!pip install cloud-tpu-client==0.10 https://storage.googleapis.com/tpu-pytorch/wheels/torch_xla-1.9-cp37-cp37m-linux_x86_64.whl\n"
      ],
      "execution_count": null,
      "outputs": [
        {
          "name": "stdout",
          "output_type": "stream",
          "text": [
            "Collecting torch-xla==1.9\n",
            "  Using cached https://storage.googleapis.com/tpu-pytorch/wheels/torch_xla-1.9-cp37-cp37m-linux_x86_64.whl (149.9 MB)\n",
            "Requirement already satisfied: cloud-tpu-client==0.10 in /usr/local/lib/python3.7/dist-packages (0.10)\n",
            "Requirement already satisfied: google-api-python-client==1.8.0 in /usr/local/lib/python3.7/dist-packages (from cloud-tpu-client==0.10) (1.8.0)\n",
            "Requirement already satisfied: oauth2client in /usr/local/lib/python3.7/dist-packages (from cloud-tpu-client==0.10) (4.1.3)\n",
            "Requirement already satisfied: google-api-core<2dev,>=1.13.0 in /usr/local/lib/python3.7/dist-packages (from google-api-python-client==1.8.0->cloud-tpu-client==0.10) (1.26.3)\n",
            "Requirement already satisfied: uritemplate<4dev,>=3.0.0 in /usr/local/lib/python3.7/dist-packages (from google-api-python-client==1.8.0->cloud-tpu-client==0.10) (3.0.1)\n",
            "Requirement already satisfied: google-auth-httplib2>=0.0.3 in /usr/local/lib/python3.7/dist-packages (from google-api-python-client==1.8.0->cloud-tpu-client==0.10) (0.0.4)\n",
            "Requirement already satisfied: google-auth>=1.4.1 in /usr/local/lib/python3.7/dist-packages (from google-api-python-client==1.8.0->cloud-tpu-client==0.10) (1.35.0)\n",
            "Requirement already satisfied: six<2dev,>=1.6.1 in /usr/local/lib/python3.7/dist-packages (from google-api-python-client==1.8.0->cloud-tpu-client==0.10) (1.15.0)\n",
            "Requirement already satisfied: httplib2<1dev,>=0.9.2 in /usr/local/lib/python3.7/dist-packages (from google-api-python-client==1.8.0->cloud-tpu-client==0.10) (0.17.4)\n",
            "Requirement already satisfied: packaging>=14.3 in /usr/local/lib/python3.7/dist-packages (from google-api-core<2dev,>=1.13.0->google-api-python-client==1.8.0->cloud-tpu-client==0.10) (21.3)\n",
            "Requirement already satisfied: requests<3.0.0dev,>=2.18.0 in /usr/local/lib/python3.7/dist-packages (from google-api-core<2dev,>=1.13.0->google-api-python-client==1.8.0->cloud-tpu-client==0.10) (2.23.0)\n",
            "Requirement already satisfied: pytz in /usr/local/lib/python3.7/dist-packages (from google-api-core<2dev,>=1.13.0->google-api-python-client==1.8.0->cloud-tpu-client==0.10) (2018.9)\n",
            "Requirement already satisfied: protobuf>=3.12.0 in /usr/local/lib/python3.7/dist-packages (from google-api-core<2dev,>=1.13.0->google-api-python-client==1.8.0->cloud-tpu-client==0.10) (3.17.3)\n",
            "Requirement already satisfied: setuptools>=40.3.0 in /usr/local/lib/python3.7/dist-packages (from google-api-core<2dev,>=1.13.0->google-api-python-client==1.8.0->cloud-tpu-client==0.10) (57.4.0)\n",
            "Requirement already satisfied: googleapis-common-protos<2.0dev,>=1.6.0 in /usr/local/lib/python3.7/dist-packages (from google-api-core<2dev,>=1.13.0->google-api-python-client==1.8.0->cloud-tpu-client==0.10) (1.53.0)\n",
            "Requirement already satisfied: pyasn1-modules>=0.2.1 in /usr/local/lib/python3.7/dist-packages (from google-auth>=1.4.1->google-api-python-client==1.8.0->cloud-tpu-client==0.10) (0.2.8)\n",
            "Requirement already satisfied: cachetools<5.0,>=2.0.0 in /usr/local/lib/python3.7/dist-packages (from google-auth>=1.4.1->google-api-python-client==1.8.0->cloud-tpu-client==0.10) (4.2.4)\n",
            "Requirement already satisfied: rsa<5,>=3.1.4 in /usr/local/lib/python3.7/dist-packages (from google-auth>=1.4.1->google-api-python-client==1.8.0->cloud-tpu-client==0.10) (4.7.2)\n",
            "Requirement already satisfied: pyparsing!=3.0.5,>=2.0.2 in /usr/local/lib/python3.7/dist-packages (from packaging>=14.3->google-api-core<2dev,>=1.13.0->google-api-python-client==1.8.0->cloud-tpu-client==0.10) (3.0.6)\n",
            "Requirement already satisfied: pyasn1<0.5.0,>=0.4.6 in /usr/local/lib/python3.7/dist-packages (from pyasn1-modules>=0.2.1->google-auth>=1.4.1->google-api-python-client==1.8.0->cloud-tpu-client==0.10) (0.4.8)\n",
            "Requirement already satisfied: idna<3,>=2.5 in /usr/local/lib/python3.7/dist-packages (from requests<3.0.0dev,>=2.18.0->google-api-core<2dev,>=1.13.0->google-api-python-client==1.8.0->cloud-tpu-client==0.10) (2.10)\n",
            "Requirement already satisfied: urllib3!=1.25.0,!=1.25.1,<1.26,>=1.21.1 in /usr/local/lib/python3.7/dist-packages (from requests<3.0.0dev,>=2.18.0->google-api-core<2dev,>=1.13.0->google-api-python-client==1.8.0->cloud-tpu-client==0.10) (1.24.3)\n",
            "Requirement already satisfied: chardet<4,>=3.0.2 in /usr/local/lib/python3.7/dist-packages (from requests<3.0.0dev,>=2.18.0->google-api-core<2dev,>=1.13.0->google-api-python-client==1.8.0->cloud-tpu-client==0.10) (3.0.4)\n",
            "Requirement already satisfied: certifi>=2017.4.17 in /usr/local/lib/python3.7/dist-packages (from requests<3.0.0dev,>=2.18.0->google-api-core<2dev,>=1.13.0->google-api-python-client==1.8.0->cloud-tpu-client==0.10) (2021.10.8)\n"
          ]
        }
      ]
    },
    {
      "cell_type": "code",
      "metadata": {
        "colab": {
          "base_uri": "https://localhost:8080/"
        },
        "id": "RXDMZYQgrl3p",
        "outputId": "ccc8298d-6ff5-4dcd-d93c-59c494146842"
      },
      "source": [
        "! pip install torch==1.9.0+cu111 -f https://download.pytorch.org/whl/cu111/torch_stable.html"
      ],
      "execution_count": null,
      "outputs": [
        {
          "name": "stdout",
          "output_type": "stream",
          "text": [
            "Looking in links: https://download.pytorch.org/whl/cu111/torch_stable.html\n",
            "Requirement already satisfied: torch==1.9.0+cu111 in /usr/local/lib/python3.7/dist-packages (1.9.0+cu111)\n",
            "Requirement already satisfied: typing-extensions in /usr/local/lib/python3.7/dist-packages (from torch==1.9.0+cu111) (3.10.0.2)\n"
          ]
        }
      ]
    },
    {
      "cell_type": "code",
      "metadata": {
        "colab": {
          "base_uri": "https://localhost:8080/"
        },
        "id": "kFLHjIaqs-0I",
        "outputId": "35e80315-33f0-42e8-f1fa-268c8f03679d"
      },
      "source": [
        "import torch\n",
        "import torch_xla\n",
        "import torch_xla.core.xla_model as xm\n",
        "device = xm.xla_device()"
      ],
      "execution_count": null,
      "outputs": [
        {
          "name": "stderr",
          "output_type": "stream",
          "text": [
            "WARNING:root:TPU has started up successfully with version pytorch-1.9\n"
          ]
        }
      ]
    },
    {
      "cell_type": "code",
      "metadata": {
        "colab": {
          "base_uri": "https://localhost:8080/"
        },
        "id": "Y4lD_j7et_YI",
        "outputId": "b7dcfd8b-2c9c-46e3-dc46-30601758ea00"
      },
      "source": [
        "device"
      ],
      "execution_count": null,
      "outputs": [
        {
          "data": {
            "text/plain": [
              "device(type='xla', index=1)"
            ]
          },
          "execution_count": 27,
          "metadata": {},
          "output_type": "execute_result"
        }
      ]
    },
    {
      "cell_type": "markdown",
      "metadata": {
        "id": "7EvRIEgtshyZ"
      },
      "source": [
        "### Prepare CPU or GPU environment"
      ]
    },
    {
      "cell_type": "code",
      "metadata": {
        "id": "WrBPmJQ0r2pX"
      },
      "source": [
        "#device = torch.device(\"cuda\") if torch.cuda.is_available() else torch.device(\"cpu\")\n",
        "#device"
      ],
      "execution_count": null,
      "outputs": []
    },
    {
      "cell_type": "markdown",
      "metadata": {
        "id": "7k35lu9YssuR"
      },
      "source": [
        "### Prepare BERT model from network or local disk"
      ]
    },
    {
      "cell_type": "code",
      "metadata": {
        "colab": {
          "base_uri": "https://localhost:8080/"
        },
        "id": "5uJvxaJNvMz6",
        "outputId": "56f15ef0-8aa7-41e2-9307-80ade9743e44"
      },
      "source": [
        "!pip install transformers"
      ],
      "execution_count": null,
      "outputs": [
        {
          "name": "stdout",
          "output_type": "stream",
          "text": [
            "Requirement already satisfied: transformers in /usr/local/lib/python3.7/dist-packages (4.12.5)\n",
            "Requirement already satisfied: filelock in /usr/local/lib/python3.7/dist-packages (from transformers) (3.4.0)\n",
            "Requirement already satisfied: requests in /usr/local/lib/python3.7/dist-packages (from transformers) (2.23.0)\n",
            "Requirement already satisfied: pyyaml>=5.1 in /usr/local/lib/python3.7/dist-packages (from transformers) (6.0)\n",
            "Requirement already satisfied: tokenizers<0.11,>=0.10.1 in /usr/local/lib/python3.7/dist-packages (from transformers) (0.10.3)\n",
            "Requirement already satisfied: packaging>=20.0 in /usr/local/lib/python3.7/dist-packages (from transformers) (21.3)\n",
            "Requirement already satisfied: regex!=2019.12.17 in /usr/local/lib/python3.7/dist-packages (from transformers) (2019.12.20)\n",
            "Requirement already satisfied: importlib-metadata in /usr/local/lib/python3.7/dist-packages (from transformers) (4.8.2)\n",
            "Requirement already satisfied: tqdm>=4.27 in /usr/local/lib/python3.7/dist-packages (from transformers) (4.62.3)\n",
            "Requirement already satisfied: sacremoses in /usr/local/lib/python3.7/dist-packages (from transformers) (0.0.46)\n",
            "Requirement already satisfied: huggingface-hub<1.0,>=0.1.0 in /usr/local/lib/python3.7/dist-packages (from transformers) (0.1.2)\n",
            "Requirement already satisfied: numpy>=1.17 in /usr/local/lib/python3.7/dist-packages (from transformers) (1.19.5)\n",
            "Requirement already satisfied: typing-extensions>=3.7.4.3 in /usr/local/lib/python3.7/dist-packages (from huggingface-hub<1.0,>=0.1.0->transformers) (3.10.0.2)\n",
            "Requirement already satisfied: pyparsing!=3.0.5,>=2.0.2 in /usr/local/lib/python3.7/dist-packages (from packaging>=20.0->transformers) (3.0.6)\n",
            "Requirement already satisfied: zipp>=0.5 in /usr/local/lib/python3.7/dist-packages (from importlib-metadata->transformers) (3.6.0)\n",
            "Requirement already satisfied: chardet<4,>=3.0.2 in /usr/local/lib/python3.7/dist-packages (from requests->transformers) (3.0.4)\n",
            "Requirement already satisfied: idna<3,>=2.5 in /usr/local/lib/python3.7/dist-packages (from requests->transformers) (2.10)\n",
            "Requirement already satisfied: urllib3!=1.25.0,!=1.25.1,<1.26,>=1.21.1 in /usr/local/lib/python3.7/dist-packages (from requests->transformers) (1.24.3)\n",
            "Requirement already satisfied: certifi>=2017.4.17 in /usr/local/lib/python3.7/dist-packages (from requests->transformers) (2021.10.8)\n",
            "Requirement already satisfied: joblib in /usr/local/lib/python3.7/dist-packages (from sacremoses->transformers) (1.1.0)\n",
            "Requirement already satisfied: click in /usr/local/lib/python3.7/dist-packages (from sacremoses->transformers) (7.1.2)\n",
            "Requirement already satisfied: six in /usr/local/lib/python3.7/dist-packages (from sacremoses->transformers) (1.15.0)\n"
          ]
        }
      ]
    },
    {
      "cell_type": "code",
      "metadata": {
        "id": "J9fdjFFTqtRJ"
      },
      "source": [
        "from transformers.file_utils import is_torch_available, is_torch_tpu_available\n",
        "from transformers import BertTokenizerFast, BertForSequenceClassification, BertForTokenClassification\n",
        "from transformers import Trainer, TrainingArguments"
      ],
      "execution_count": null,
      "outputs": []
    },
    {
      "cell_type": "code",
      "metadata": {
        "colab": {
          "base_uri": "https://localhost:8080/"
        },
        "id": "Ccy5d-yutHZw",
        "outputId": "93c0ffc2-65e2-4022-e171-0522d8d79c39"
      },
      "source": [
        "import os\n",
        "local_dir = \"/content/drive/MyDrive/Colab Notebooks/fnc-bert-base-uncased-epoch-3-batch-16\"\n",
        "os.listdir(local_dir)"
      ],
      "execution_count": null,
      "outputs": [
        {
          "data": {
            "text/plain": [
              "['special_tokens_map.json',\n",
              " 'tokenizer_config.json',\n",
              " 'vocab.txt',\n",
              " 'config.json',\n",
              " 'pytorch_model.bin',\n",
              " 'tokenizer.json']"
            ]
          },
          "execution_count": 31,
          "metadata": {},
          "output_type": "execute_result"
        }
      ]
    },
    {
      "cell_type": "code",
      "metadata": {
        "id": "4fVTxW3TpLU7"
      },
      "source": [
        "max_length = 512\n",
        "tokenizer = BertTokenizerFast.from_pretrained(local_dir, local_files_only=True, do_lower_case=True)\n",
        "model = BertForSequenceClassification.from_pretrained(local_dir, local_files_only=True, num_labels=4).to(device)"
      ],
      "execution_count": null,
      "outputs": []
    },
    {
      "cell_type": "code",
      "metadata": {
        "id": "pK5gfpiDgYC7"
      },
      "source": [
        "# Prepare the pre-trained model that is needed for this project. \n",
        "# model_name = \"bert-base-uncased\"\n",
        "# max_length = 512\n",
        "# tokenizer = BertTokenizerFast.from_pretrained(model_name, do_lower_case=True)\n",
        "# model = BertForSequenceClassification.from_pretrained(model_name, num_labels=4).to(dev)"
      ],
      "execution_count": null,
      "outputs": []
    },
    {
      "cell_type": "markdown",
      "metadata": {
        "id": "LcG4MyLzv2MZ"
      },
      "source": [
        "### Prepare DataSet"
      ]
    },
    {
      "cell_type": "code",
      "metadata": {
        "id": "fI66XG6v3D_J"
      },
      "source": [
        "class FakeNewsDataset(torch.utils.data.Dataset):\n",
        "    def __init__(self, encodings, labels):\n",
        "        self.encodings = encodings\n",
        "        self.labels = labels\n",
        "\n",
        "    def __getitem__(self, idx):\n",
        "        item = {k: torch.tensor(v[idx]) for k, v in self.encodings.items()}\n",
        "        item[\"labels\"] = torch.tensor(self.labels[idx])\n",
        "        return item\n",
        "\n",
        "    def __len__(self):\n",
        "        return len(self.labels)"
      ],
      "execution_count": null,
      "outputs": []
    },
    {
      "cell_type": "code",
      "metadata": {
        "id": "LcCldSu3vl2h"
      },
      "source": [
        "from sklearn.model_selection import train_test_split\n",
        "\n",
        "train_texts, valid_texts, train_labels, valid_labels = train_test_split(train_df[\"Mixed\"].to_list(), \n",
        "                                                                        train_df[\"Stance\"].to_list(), \n",
        "                                                                        test_size=0.2)\n",
        "test_texts = test_df[\"Mixed\"].to_list()\n",
        "test_labels = test_df[\"Stance\"].to_list()"
      ],
      "execution_count": null,
      "outputs": []
    },
    {
      "cell_type": "code",
      "metadata": {
        "id": "SqRfaMwE3YMS"
      },
      "source": [
        "# tokenize the dataset, truncate when passed `max_length`, \n",
        "# and pad with 0's when less than `max_length`\n",
        "train_encodings = tokenizer(train_texts, truncation=True, padding=True, max_length=max_length)\n",
        "valid_encodings = tokenizer(valid_texts, truncation=True, padding=True, max_length=max_length)\n",
        "test_encodings = tokenizer(test_texts, truncation=True, padding=True, max_length=max_length)"
      ],
      "execution_count": null,
      "outputs": []
    },
    {
      "cell_type": "code",
      "metadata": {
        "id": "-mpfdQKw6sgW"
      },
      "source": [
        "train_dataset = FakeNewsDataset(train_encodings, train_labels)\n",
        "valid_dataset = FakeNewsDataset(valid_encodings, valid_labels)\n",
        "test_dataset = FakeNewsDataset(test_encodings, test_labels)"
      ],
      "execution_count": null,
      "outputs": []
    },
    {
      "cell_type": "markdown",
      "metadata": {
        "id": "5j2WhiGx2zBb"
      },
      "source": [
        "### Train BERT model"
      ]
    },
    {
      "cell_type": "code",
      "metadata": {
        "id": "wrQ95qLj3iMN"
      },
      "source": [
        "from sklearn.metrics import accuracy_score, precision_score, f1_score, confusion_matrix\n",
        "\n",
        "def compute_metrics(pred):\n",
        "  labels = pred.label_ids\n",
        "  preds = pred.predictions.argmax(-1)\n",
        "  # calculate accuracy using sklearn's function\n",
        "  acc = accuracy_score(labels, preds)\n",
        "  return {\n",
        "      'accuracy': acc,\n",
        "  }"
      ],
      "execution_count": null,
      "outputs": []
    },
    {
      "cell_type": "code",
      "metadata": {
        "id": "FP3UcM2o5p9l"
      },
      "source": [
        "training_args = TrainingArguments(\n",
        "    output_dir='./results',          # output directory\n",
        "    num_train_epochs=3,              # total number of training epochs\n",
        "    per_device_train_batch_size=16,  # batch size per device during training\n",
        "    per_device_eval_batch_size=64,   # batch size for evaluation\n",
        "    warmup_steps=500,                # number of warmup steps for learning rate scheduler\n",
        "    weight_decay=0.01,               # strength of weight decay\n",
        "    logging_dir='./logs',            # directory for storing logs\n",
        "    load_best_model_at_end=True,     # load the best model when finished training (default metric is loss)\n",
        "    # but you can specify `metric_for_best_model` argument to change to accuracy or other metric\n",
        "    logging_steps=100,               # log & save weights each logging_steps\n",
        "    save_steps=1000,\n",
        "    evaluation_strategy=\"steps\",     # evaluate each `logging_steps`\n",
        ")"
      ],
      "execution_count": null,
      "outputs": []
    },
    {
      "cell_type": "code",
      "metadata": {
        "id": "kQN7pvln5qrI"
      },
      "source": [
        "trainer = Trainer(\n",
        "    model=model,                         # the instantiated Transformers model to be trained\n",
        "    args=training_args,                  # training arguments, defined above\n",
        "    train_dataset=train_dataset,         # training dataset\n",
        "    eval_dataset=valid_dataset,          # evaluation dataset\n",
        "    compute_metrics=compute_metrics,     # the callback that computes metrics of interest\n",
        ")"
      ],
      "execution_count": null,
      "outputs": []
    },
    {
      "cell_type": "code",
      "metadata": {
        "id": "dtU4JTA55vUC"
      },
      "source": [
        "#trainer.train()"
      ],
      "execution_count": null,
      "outputs": []
    },
    {
      "cell_type": "code",
      "metadata": {
        "colab": {
          "base_uri": "https://localhost:8080/",
          "height": 53
        },
        "id": "53Nq_V2OWZdC",
        "outputId": "c9a6b813-abbd-4789-e021-bbed65a943db"
      },
      "source": [
        "\"\"\"\n",
        "from distutils.dir_util import copy_tree\n",
        "\n",
        "driver_dir = \"/content/drive/MyDrive/Colab Notebooks\"\n",
        "model_path = \"fnc-\"+model_name+\"-epoch-3-batch-16\"\n",
        "\n",
        "model.save_pretrained(model_path)\n",
        "tokenizer.save_pretrained(model_path)\n",
        "\n",
        "copy_tree(model_path, os.path.join(driver_dir, model_path))\n",
        "\"\"\""
      ],
      "execution_count": null,
      "outputs": [
        {
          "data": {
            "application/vnd.google.colaboratory.intrinsic+json": {
              "type": "string"
            },
            "text/plain": [
              "'\\nfrom distutils.dir_util import copy_tree\\n\\ndriver_dir = \"/content/drive/MyDrive/Colab Notebooks\"\\nmodel_path = \"fnc-\"+model_name+\"-epoch-3-batch-16\"\\n\\nmodel.save_pretrained(model_path)\\ntokenizer.save_pretrained(model_path)\\n\\ncopy_tree(model_path, os.path.join(driver_dir, model_path))\\n'"
            ]
          },
          "execution_count": 42,
          "metadata": {},
          "output_type": "execute_result"
        }
      ]
    },
    {
      "cell_type": "code",
      "metadata": {
        "colab": {
          "base_uri": "https://localhost:8080/",
          "height": 182
        },
        "id": "U_EVnJVQ5yLa",
        "outputId": "bccd4ab5-53ea-4999-9645-aa3d54614530"
      },
      "source": [
        "trainer.evaluate()"
      ],
      "execution_count": null,
      "outputs": [
        {
          "name": "stderr",
          "output_type": "stream",
          "text": [
            "***** Running Evaluation *****\n",
            "  Num examples = 9995\n",
            "  Batch size = 64\n"
          ]
        },
        {
          "data": {
            "text/html": [
              "\n",
              "    <div>\n",
              "      \n",
              "      <progress value='157' max='157' style='width:300px; height:20px; vertical-align: middle;'></progress>\n",
              "      [157/157 03:13]\n",
              "    </div>\n",
              "    "
            ],
            "text/plain": [
              "<IPython.core.display.HTML object>"
            ]
          },
          "metadata": {},
          "output_type": "display_data"
        },
        {
          "data": {
            "text/plain": [
              "{'eval_accuracy': 0.9919959979989995,\n",
              " 'eval_loss': 0.03280932456254959,\n",
              " 'eval_runtime': 194.7622,\n",
              " 'eval_samples_per_second': 51.319,\n",
              " 'eval_steps_per_second': 0.806}"
            ]
          },
          "execution_count": 43,
          "metadata": {},
          "output_type": "execute_result"
        }
      ]
    },
    {
      "cell_type": "markdown",
      "metadata": {
        "id": "08dEZ87d0glb"
      },
      "source": [
        "### Test"
      ]
    },
    {
      "cell_type": "code",
      "metadata": {
        "colab": {
          "base_uri": "https://localhost:8080/"
        },
        "id": "_71FXOYpwvqa",
        "outputId": "027baa94-eb12-4da0-fc6a-c4d4b24c6a64"
      },
      "source": [
        "from torch.utils.data import DataLoader\n",
        "test_dataloader = DataLoader(test_dataset, batch_size=128, shuffle=False)\n",
        "test_dataloader"
      ],
      "execution_count": null,
      "outputs": [
        {
          "data": {
            "text/plain": [
              "<torch.utils.data.dataloader.DataLoader at 0x7fedf78ada10>"
            ]
          },
          "execution_count": 44,
          "metadata": {},
          "output_type": "execute_result"
        }
      ]
    },
    {
      "cell_type": "code",
      "metadata": {
        "colab": {
          "background_save": true
        },
        "id": "KZ2e4DkFx8Ia"
      },
      "source": [
        "from sklearn.preprocessing import label_binarize\n",
        "\n",
        "y_trues_for_test = np.array(label_binarize(test_labels, classes=[0, 1, 2, 3]))\n",
        "y_preds_for_test = []\n",
        "\n",
        "model.eval()\n",
        "for batch in test_dataloader:\n",
        "    batch = {k: v.to(device) for k, v in batch.items()}\n",
        "    with torch.no_grad():\n",
        "        outputs = model(**batch)\n",
        "\n",
        "    y_pred= torch.softmax(outputs.logits, dim=1).tolist()\n",
        "    y_preds_for_test.extend(y_pred)\n",
        "\n",
        "y_preds_for_test = np.array(y_preds_for_test)\n"
      ],
      "execution_count": null,
      "outputs": []
    },
    {
      "cell_type": "code",
      "metadata": {
        "colab": {
          "background_save": true
        },
        "id": "IRWHLiduzLFQ",
        "outputId": "3a5cc51b-b147-45b5-e29f-78c1c1987483"
      },
      "source": [
        "import matplotlib.pyplot as plt\n",
        "from sklearn.metrics import roc_curve, auc\n",
        "\n",
        "fig, axs = plt.subplots(1, 1, figsize=(8,8))\n",
        "\n",
        "title = f\"ROC curve\"\n",
        "roc_processor(y_trues_for_test, y_preds_for_test, axs, title)"
      ],
      "execution_count": null,
      "outputs": [
        {
          "data": {
            "image/png": "[encoded data removed]",
            "text/plain": [
              "<Figure size 576x576 with 1 Axes>"
            ]
          },
          "metadata": {},
          "output_type": "display_data"
        }
      ]
    },
    {
      "cell_type": "code",
      "metadata": {
        "colab": {
          "background_save": true
        },
        "id": "EKOGZtkx5NwT",
        "outputId": "1cc1aa08-b801-49b1-ddd7-1221ba8d8b9f"
      },
      "source": [
        "from sklearn.metrics import accuracy_score, precision_score, f1_score, confusion_matrix\n",
        "y_preds_for_output = np.argmax(y_preds_for_test, axis=1)\n",
        "y_trues_for_output = np.argmax(y_trues_for_test, axis=1)\n",
        "\n",
        "acc = accuracy_score(y_trues_for_output, y_preds_for_output)\n",
        "pre = precision_score(y_trues_for_output, y_preds_for_output, average=\"weighted\")\n",
        "f1 = f1_score(y_trues_for_output, y_preds_for_output, average=\"weighted\")\n",
        "\n",
        "print(f\"accuracy_score={acc}, precision_score={pre}, f1_score={f1}.\")\n",
        "confusion_matrix(y_trues_for_output, y_preds_for_output)"
      ],
      "execution_count": null,
      "outputs": [
        {
          "name": "stdout",
          "output_type": "stream",
          "text": [
            "accuracy_score=0.9037500491874237, precision_score=0.9060421347068395, f1_score=0.9043580503991685.\n"
          ]
        },
        {
          "data": {
            "text/plain": [
              "array([[17750,   419,   107,    73],\n",
              "       [   86,  3788,   485,   105],\n",
              "       [   52,   494,  1200,   157],\n",
              "       [   54,   193,   221,   229]])"
            ]
          },
          "execution_count": null,
          "metadata": {},
          "output_type": "execute_result"
        }
      ]
    },
    {
      "cell_type": "code",
      "metadata": {
        "colab": {
          "background_save": true
        },
        "id": "Y3FDxhNM3Drr",
        "outputId": "ce104d7c-e650-45f0-a2d1-569469079067"
      },
      "source": [
        "y_preds_for_output = list(map(lambda x: convert_int_to_stance(x), y_preds_for_output))\n",
        "\n",
        "pred_stances_df = test_stances_df.copy(deep=True)[[\"Headline\", \"Body ID\",\"Stance\"]]\n",
        "pred_stances_df[\"Stance\"] = y_preds_for_output\n",
        "pred_stances_df.to_csv(\"BERT\"+\".csv\", index=False)\n",
        "pred_stances_df"
      ],
      "execution_count": null,
      "outputs": [
        {
          "data": {
            "text/html": [
              "<div>\n",
              "<style scoped>\n",
              "    .dataframe tbody tr th:only-of-type {\n",
              "        vertical-align: middle;\n",
              "    }\n",
              "\n",
              "    .dataframe tbody tr th {\n",
              "        vertical-align: top;\n",
              "    }\n",
              "\n",
              "    .dataframe thead th {\n",
              "        text-align: right;\n",
              "    }\n",
              "</style>\n",
              "<table border=\"1\" class=\"dataframe\">\n",
              "  <thead>\n",
              "    <tr style=\"text-align: right;\">\n",
              "      <th></th>\n",
              "      <th>Headline</th>\n",
              "      <th>Body ID</th>\n",
              "      <th>Stance</th>\n",
              "    </tr>\n",
              "  </thead>\n",
              "  <tbody>\n",
              "    <tr>\n",
              "      <th>0</th>\n",
              "      <td>Ferguson riots: Pregnant woman loses eye after...</td>\n",
              "      <td>2008</td>\n",
              "      <td>unrelated</td>\n",
              "    </tr>\n",
              "    <tr>\n",
              "      <th>1</th>\n",
              "      <td>Crazy Conservatives Are Sure a Gitmo Detainee ...</td>\n",
              "      <td>1550</td>\n",
              "      <td>unrelated</td>\n",
              "    </tr>\n",
              "    <tr>\n",
              "      <th>2</th>\n",
              "      <td>A Russian Guy Says His Justin Bieber Ringtone ...</td>\n",
              "      <td>2</td>\n",
              "      <td>unrelated</td>\n",
              "    </tr>\n",
              "    <tr>\n",
              "      <th>3</th>\n",
              "      <td>Zombie Cat: Buried Kitty Believed Dead, Meows ...</td>\n",
              "      <td>1793</td>\n",
              "      <td>unrelated</td>\n",
              "    </tr>\n",
              "    <tr>\n",
              "      <th>4</th>\n",
              "      <td>Argentina's President Adopts Boy to End Werewo...</td>\n",
              "      <td>37</td>\n",
              "      <td>unrelated</td>\n",
              "    </tr>\n",
              "    <tr>\n",
              "      <th>...</th>\n",
              "      <td>...</td>\n",
              "      <td>...</td>\n",
              "      <td>...</td>\n",
              "    </tr>\n",
              "    <tr>\n",
              "      <th>25408</th>\n",
              "      <td>The success of the Affordable Care Act is a hu...</td>\n",
              "      <td>2582</td>\n",
              "      <td>agree</td>\n",
              "    </tr>\n",
              "    <tr>\n",
              "      <th>25409</th>\n",
              "      <td>The success of the Affordable Care Act is a hu...</td>\n",
              "      <td>2583</td>\n",
              "      <td>agree</td>\n",
              "    </tr>\n",
              "    <tr>\n",
              "      <th>25410</th>\n",
              "      <td>The success of the Affordable Care Act is a hu...</td>\n",
              "      <td>2584</td>\n",
              "      <td>disagree</td>\n",
              "    </tr>\n",
              "    <tr>\n",
              "      <th>25411</th>\n",
              "      <td>The success of the Affordable Care Act is a hu...</td>\n",
              "      <td>2585</td>\n",
              "      <td>discuss</td>\n",
              "    </tr>\n",
              "    <tr>\n",
              "      <th>25412</th>\n",
              "      <td>The success of the Affordable Care Act is a hu...</td>\n",
              "      <td>2586</td>\n",
              "      <td>agree</td>\n",
              "    </tr>\n",
              "  </tbody>\n",
              "</table>\n",
              "<p>25413 rows × 3 columns</p>\n",
              "</div>"
            ],
            "text/plain": [
              "                                                Headline  Body ID     Stance\n",
              "0      Ferguson riots: Pregnant woman loses eye after...     2008  unrelated\n",
              "1      Crazy Conservatives Are Sure a Gitmo Detainee ...     1550  unrelated\n",
              "2      A Russian Guy Says His Justin Bieber Ringtone ...        2  unrelated\n",
              "3      Zombie Cat: Buried Kitty Believed Dead, Meows ...     1793  unrelated\n",
              "4      Argentina's President Adopts Boy to End Werewo...       37  unrelated\n",
              "...                                                  ...      ...        ...\n",
              "25408  The success of the Affordable Care Act is a hu...     2582      agree\n",
              "25409  The success of the Affordable Care Act is a hu...     2583      agree\n",
              "25410  The success of the Affordable Care Act is a hu...     2584   disagree\n",
              "25411  The success of the Affordable Care Act is a hu...     2585    discuss\n",
              "25412  The success of the Affordable Care Act is a hu...     2586      agree\n",
              "\n",
              "[25413 rows x 3 columns]"
            ]
          },
          "execution_count": null,
          "metadata": {},
          "output_type": "execute_result"
        }
      ]
    },
    {
      "cell_type": "code",
      "metadata": {
        "colab": {
          "background_save": true
        },
        "id": "YWMRcLea3z_S",
        "outputId": "f2c93696-dcb7-45ce-c0d1-50891b6fdeeb"
      },
      "source": [
        "! python fnc-1/scorer.py fnc-1/competition_test_stances.csv BERT.csv"
      ],
      "execution_count": null,
      "outputs": [
        {
          "name": "stdout",
          "output_type": "stream",
          "text": [
            "CONFUSION MATRIX:\n",
            "-------------------------------------------------------------\n",
            "|           |   agree   | disagree  |  discuss  | unrelated |\n",
            "-------------------------------------------------------------\n",
            "|   agree   |   1200    |    157    |    494    |    52     |\n",
            "-------------------------------------------------------------\n",
            "| disagree  |    221    |    229    |    193    |    54     |\n",
            "-------------------------------------------------------------\n",
            "|  discuss  |    485    |    105    |   3788    |    86     |\n",
            "-------------------------------------------------------------\n",
            "| unrelated |    107    |    73     |    419    |   17750   |\n",
            "-------------------------------------------------------------\n",
            "ACCURACY: 0.904\n",
            "\n",
            "MAX  - the best possible score (100% accuracy)\n",
            "NULL - score as if all predicted stances were unrelated\n",
            "TEST - score based on the provided predictions\n",
            "\n",
            "||    MAX    ||    NULL   ||    TEST   ||\n",
            "|| 11651.25  ||  4587.25  || 10068.25  ||\n",
            "\n"
          ]
        }
      ]
    }
  ]
}